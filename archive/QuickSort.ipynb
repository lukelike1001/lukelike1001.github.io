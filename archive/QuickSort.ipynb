{
 "cells": [
  {
   "attachments": {},
   "cell_type": "markdown",
   "metadata": {},
   "source": [
    "### **QuickSort Algorithm**\n",
    "\n",
    "Quicksort is a **Divide and Conquer** algorithm that picks an element as a pivot and partitions the given array around the picked pivot.\n",
    "\n",
    "The process can be outlined as follows:\n",
    "\n",
    "1. Choose **pivot** element (usually last or random)\n",
    "\n",
    "2. Store elements **less than** the pivot in the left subarray<br>\n",
    "Store elements **greater than** the pivot in the right subarray\n",
    "\n",
    "3. Call quicksort **recursively** on the left subarray<br>\n",
    "Call quicksort **recursively** on the right subarray"
   ]
  },
  {
   "cell_type": "code",
   "execution_count": 2,
   "metadata": {},
   "outputs": [],
   "source": [
    "# function to find the partition position\n",
    "def partition(array, low, high):\n",
    "\n",
    "    # choose the rightmost element as the pivot\n",
    "    pivot = array[high]\n",
    "\n",
    "    # pointer for the greater element\n",
    "    i = low\n",
    "\n",
    "    # traverse through all elements and compare\n",
    "    # each element with the pivot\n",
    "    for j in range(low, high):\n",
    "        if array[j] <= pivot:\n",
    "            array[i], array[j] = array[j], array[i]\n",
    "            i += 1\n",
    "    \n",
    "    # swap the pivot element with the greater element\n",
    "    array[i], array[high] = array[high], array[i]\n",
    "\n",
    "    # return the partition index\n",
    "    return i\n",
    "\n",
    "# function to perform quicksort\n",
    "def quickSort(array, low, high):\n",
    "    if low < high:\n",
    "\n",
    "        # find the pivot element such that\n",
    "        # elements smaller than pivot are on the left and\n",
    "        # elements greater than pivot are on the right\n",
    "        pi = partition(array, low, high)\n",
    "\n",
    "        # recursively call both sides of the pivot\n",
    "        quickSort(array, low, pi-1)\n",
    "        quickSort(array, pi+1, high)\n"
   ]
  },
  {
   "cell_type": "code",
   "execution_count": 3,
   "metadata": {},
   "outputs": [
    {
     "name": "stdout",
     "output_type": "stream",
     "text": [
      "Original:  [22, 11, 88, 66, 55, 77, 33, 44]\n",
      "Sorted:    [11, 22, 33, 44, 55, 66, 77, 88]\n"
     ]
    }
   ],
   "source": [
    "# create a list to test the quicksort algorithm\n",
    "arr = [22, 11, 88, 66, 55, 77, 33, 44]\n",
    "print(\"Original: \", arr)\n",
    "\n",
    "# sort the list then print the result\n",
    "quickSort(arr, 0, len(arr)-1)\n",
    "print(\"Sorted:   \", arr)"
   ]
  },
  {
   "attachments": {},
   "cell_type": "markdown",
   "metadata": {},
   "source": [
    "#### **Time Complexity Analysis**\n",
    "\n",
    "**Worst Case:**<br>\n",
    "The worst case occurs when the partition process always picks the greatest or smallest element as the pivot. In other words, sorting an already sorted list yields an O(n^2) runtime complexity from the following recurrence relation:\n",
    "\n",
    "> T(n) = T(0) + T(n-1) + O(n) which is equivalent to  T(n) = T(n-1) + O(n)\n",
    "\n",
    "**Best Case:**<br>\n",
    "The best case occurs when the partition process always picks the middle element as the pivot. This results in an O(nlogn) runtime complexity from the following recurrence relation:\n",
    "\n",
    "> T(n) = 2T(n/2) + O(n)\n",
    "\n",
    "**Average Case:**<br>\n",
    "To do average case analysis, we need to consider all possible permutation of array and calculate time taken by every permutation which doesn’t look easy. We can get an idea of average case by considering the case when partition puts O(n/9) elements in one set and O(9n/10) elements in other set.\n",
    "\n",
    "This results in an O(nlogn) runtime complexity from the given recurrence relation:\n",
    "\n",
    "> T(n) = T(n/9) + T(9n/10) + O(n)\n"
   ]
  },
  {
   "attachments": {},
   "cell_type": "markdown",
   "metadata": {},
   "source": [
    "#### **QuickSort for Arrays**\n",
    "\n",
    "Quick Sort is preferred for sorting arrays over Merge Sort as it requires O(1) extra space while the latter requires O(n) extra space. Allocating and deallocating the extra memory can increase the runtime of the program.\n",
    "\n",
    "However, Quick Sort is less applicable for sorting linked lists in comparison to Merge Sort. Check MergeSort.ipynb for the reason as to why this is the case."
   ]
  },
  {
   "attachments": {},
   "cell_type": "markdown",
   "metadata": {},
   "source": [
    "#### **Credits:**\n",
    "\n",
    "> QuickSort Guide: https://youtu.be/9KBwdDEwal8<br>\n",
    "> GeeksforGeeks Article: https://www.geeksforgeeks.org/quick-sort/"
   ]
  }
 ],
 "metadata": {
  "kernelspec": {
   "display_name": "Python 3.9.6 64-bit",
   "language": "python",
   "name": "python3"
  },
  "language_info": {
   "codemirror_mode": {
    "name": "ipython",
    "version": 3
   },
   "file_extension": ".py",
   "mimetype": "text/x-python",
   "name": "python",
   "nbconvert_exporter": "python",
   "pygments_lexer": "ipython3",
   "version": "3.9.6"
  },
  "orig_nbformat": 4,
  "vscode": {
   "interpreter": {
    "hash": "55a2ed5df3d139ef54a2d88dee3e768c22bcf9438f978fefe307057a098fb194"
   }
  }
 },
 "nbformat": 4,
 "nbformat_minor": 2
}
